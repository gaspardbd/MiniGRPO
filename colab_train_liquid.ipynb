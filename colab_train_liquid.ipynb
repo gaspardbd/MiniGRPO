{
  "cells": [
    {
      "cell_type": "markdown",
      "metadata": {},
      "source": [
        "# 🧠 MiniGRPO – Colab Training Notebook\n",
        "\n",
        "This notebook trains a language model using GRPO (Group Relative Policy Optimization) on mathematical reasoning tasks.\n",
        "\n",
        "## 📋 Instructions\n",
        "\n",
        "Follow these steps in order:\n",
        "1. **GPU Check** - Verify GPU availability\n",
        "2. **Clone Repository** - Get the latest code from GitHub\n",
        "3. **Install Dependencies** - Install required packages\n",
        "4. **Login to Hugging Face** - Authenticate for model access\n",
        "5. **Launch Training** - Start the training process\n",
        "\n",
        "## 📊 Training Logs\n",
        "\n",
        "During training, you'll see:\n",
        "- **Progress**: Step X/Y (Z%) - Shows current step and completion percentage\n",
        "- **Mean Reward**: Average reward across rollouts (0.0 to 1.0, higher is better)\n",
        "- **Loss**: Training loss value (lower is better)\n",
        "- **Rewards per sample**: Individual rewards for each generated completion\n",
        "- **Checkpoints**: Model saves every 20 steps to `./output/`\n",
        "\n",
        "---\n"
      ]
    },
    {
      "cell_type": "markdown",
      "metadata": {},
      "source": [
        "## 1️⃣ GPU Check\n"
      ]
    },
    {
      "cell_type": "code",
      "execution_count": null,
      "metadata": {
        "vscode": {
          "languageId": "plaintext"
        }
      },
      "outputs": [],
      "source": [
        "!nvidia-smi || echo \"No GPU detected. Make sure to use a GPU runtime (Runtime → Change runtime type → GPU).\"\n"
      ]
    },
    {
      "cell_type": "markdown",
      "metadata": {},
      "source": [
        "## 2️⃣ Clone Repository\n",
        "\n",
        "**Important**: Update `GITHUB_URL` if you forked the repository!\n"
      ]
    },
    {
      "cell_type": "code",
      "execution_count": null,
      "metadata": {
        "vscode": {
          "languageId": "plaintext"
        }
      },
      "outputs": [],
      "source": [
        "%%bash\n",
        "GITHUB_URL=\"https://github.com/gaspardbd/MiniGRPO.git\"\n",
        "REPO_DIR=\"MiniGRPO\"\n",
        "\n",
        "if [ ! -d \"$REPO_DIR\" ]; then\n",
        "  git clone \"$GITHUB_URL\"\n",
        "fi\n",
        "\n",
        "cd \"$REPO_DIR\"\n",
        "git pull --ff-only\n",
        "ls -la"
      ]
    },
    {
      "cell_type": "markdown",
      "metadata": {},
      "source": [
        "## 3️⃣ Install Dependencies\n",
        "\n",
        "This will install PyTorch, Transformers, and other required packages.\n"
      ]
    },
    {
      "cell_type": "code",
      "execution_count": null,
      "metadata": {
        "vscode": {
          "languageId": "plaintext"
        }
      },
      "outputs": [],
      "source": [
        "%%bash\n",
        "pip install -U pip\n",
        "\n",
        "pip install torch --index-url https://download.pytorch.org/whl/cu121\n",
        "pip install transformers accelerate\n",
        "pip install wandb\n",
        "\n",
        "pip install flash-attn --no-build-isolation || echo \"flash-attn failed (optional).\"\n"
      ]
    },
    {
      "cell_type": "markdown",
      "metadata": {},
      "source": [
        "## 4️⃣ Hugging Face Login\n",
        "\n",
        "**Replace `hf_xxxxx` with your actual Hugging Face token!**\n",
        "\n",
        "Get your token from: https://huggingface.co/settings/tokens\n"
      ]
    },
    {
      "cell_type": "code",
      "execution_count": null,
      "metadata": {},
      "outputs": [],
      "source": [
        "# Optional: Hugging Face login (uncomment if needed)\n",
        "# from huggingface_hub import login\n",
        "# login(token=\"hf_...\", add_to_git_credential=True)\n",
        "\n",
        "import os\n",
        "os.environ.setdefault(\"WANDB_MODE\", \"disabled\")  # disable wandb by default\n"
      ]
    },
    {
      "cell_type": "code",
      "execution_count": null,
      "metadata": {},
      "outputs": [],
      "source": [
        "from huggingface_hub import login\n",
        "\n",
        "login(\"hf_xxxxx\")  # your token"
      ]
    },
    {
      "cell_type": "markdown",
      "metadata": {},
      "source": [
        "## 🚀 Launch Training\n",
        "\n",
        "Choose **ONE** of the following two methods to run training:\n",
        "\n",
        "### Option 1: Python (Recommended - Better log visibility)\n",
        "Run the next cell for direct Python execution with real-time logs.\n",
        "\n",
        "### Option 2: Bash (Alternative)\n",
        "Skip the next cell and run the bash cell instead if you prefer shell execution.\n",
        "\n",
        "---\n",
        "\n",
        "### 📖 Example Training Output\n",
        "\n",
        "```\n",
        "============================================================\n",
        "Step 1/25000 (0.0%): starting rollouts\n",
        "============================================================\n",
        "  Sample 1/4: generating 4 rollouts...\n",
        "  Sample 1: generation done. Rewards: [1.0, 0.5, 0.0, 1.0]\n",
        "  Sample 2/4: generating 4 rollouts...\n",
        "  Sample 2: generation done. Rewards: [1.0, 1.0, 0.5, 0.0]\n",
        "  ...\n",
        "\n",
        "📊 Rollout Summary:\n",
        "  Buffer size: 4\n",
        "  Mean reward: 0.6250\n",
        "  Min/Max reward: 0.00/1.00\n",
        "\n",
        "🔄 Training phase starting...\n",
        "  Epoch 1/1, Batch 1: loss=0.3456\n",
        "  ✓ Epoch 1 completed. Mean loss: 0.3456\n",
        "\n",
        "✅ Step 1/25000 completed!\n",
        "  Overall mean loss: 0.3456\n",
        "  Mean reward: 0.6250\n",
        "```\n"
      ]
    },
    {
      "cell_type": "code",
      "execution_count": null,
      "metadata": {},
      "outputs": [],
      "source": [
        "# Alternative: Run training directly in Python for better log visibility\n",
        "import sys\n",
        "import os\n",
        "\n",
        "# Ensure unbuffered output\n",
        "os.environ['PYTHONUNBUFFERED'] = '1'\n",
        "\n",
        "# Change to the MiniGRPO directory\n",
        "os.chdir('/content/MiniGRPO')\n",
        "\n",
        "# Run the training script\n",
        "%run train.py\n"
      ]
    },
    {
      "cell_type": "code",
      "execution_count": null,
      "metadata": {},
      "outputs": [],
      "source": [
        "%%bash\n",
        "cd MiniGRPO\n",
        "\n",
        "# Run training with unbuffered output for real-time logs\n",
        "export PYTHONUNBUFFERED=1\n",
        "python -u train.py 2>&1 | tee train.log"
      ]
    },
    {
      "cell_type": "markdown",
      "metadata": {},
      "source": [
        "## 📊 Monitor Training (Optional)\n",
        "\n",
        "If you used the bash method, you can monitor the log file in real-time with the cell below:\n"
      ]
    },
    {
      "cell_type": "code",
      "execution_count": null,
      "metadata": {},
      "outputs": [],
      "source": [
        "%%bash\n",
        "# Monitor the log file in real-time (press CTRL+C to stop)\n",
        "cd MiniGRPO\n",
        "tail -f train.log 2>/dev/null || echo \"Log file not found yet. Training might not have started.\"\n"
      ]
    }
  ],
  "metadata": {
    "language_info": {
      "name": "python"
    }
  },
  "nbformat": 4,
  "nbformat_minor": 2
}
