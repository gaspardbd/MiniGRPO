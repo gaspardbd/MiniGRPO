{
  "cells": [
    {
      "cell_type": "markdown",
      "metadata": {},
      "source": [
        "# MiniGRPO – Colab Training Notebook\n",
        "\n",
        "Follow these steps:\n",
        "- Run GPU check\n",
        "- Clone your GitHub repo (update GITHUB_URL)\n",
        "- Install dependencies\n",
        "- (Optional) Login to Hugging Face if the model needs access\n",
        "- Launch training\n"
      ]
    },
    {
      "cell_type": "code",
      "execution_count": null,
      "metadata": {
        "vscode": {
          "languageId": "plaintext"
        }
      },
      "outputs": [],
      "source": [
        "#!/bin/bash\n",
        "nvidia-smi || echo \"No GPU detected. Make sure to use a GPU runtime (Runtime → Change runtime type → GPU).\"\n"
      ]
    },
    {
      "cell_type": "code",
      "execution_count": null,
      "metadata": {
        "vscode": {
          "languageId": "plaintext"
        }
      },
      "outputs": [],
      "source": [
        "#!/bin/bash\n",
        "# Replace with your repo URL\n",
        "GITHUB_URL=\"https://github.com/your-username/MiniGRPO.git\"\n",
        "REPO_DIR=\"MiniGRPO\"\n",
        "\n",
        "if [ ! -d \"$REPO_DIR\" ]; then\n",
        "  git clone \"$GITHUB_URL\"\n",
        "fi\n",
        "cd \"$REPO_DIR\" && git pull --ff-only && ls -la\n"
      ]
    },
    {
      "cell_type": "code",
      "execution_count": null,
      "metadata": {
        "vscode": {
          "languageId": "plaintext"
        }
      },
      "outputs": [],
      "source": [
        "#!/bin/bash\n",
        "pip install -U pip\n",
        "\n",
        "# Core deps\n",
        "pip install torch --index-url https://download.pytorch.org/whl/cu121\n",
        "pip install transformers accelerate\n",
        "pip install wandb\n",
        "\n",
        "# Optional: flash-attn\n",
        "pip install flash-attn --no-build-isolation || echo \"flash-attn failed (optional).\"\n"
      ]
    },
    {
      "cell_type": "code",
      "execution_count": null,
      "metadata": {},
      "outputs": [],
      "source": [
        "# Optional: Hugging Face login (uncomment if needed)\n",
        "# from huggingface_hub import login\n",
        "# login(token=\"hf_...\", add_to_git_credential=True)\n",
        "\n",
        "import os\n",
        "os.environ.setdefault(\"WANDB_MODE\", \"disabled\")  # disable wandb by default\n"
      ]
    },
    {
      "cell_type": "code",
      "execution_count": null,
      "metadata": {},
      "outputs": [],
      "source": [
        "#!/bin/bash\n",
        "cd MiniGRPO\n",
        "python -u train.py | tee train.log\n"
      ]
    }
  ],
  "metadata": {
    "language_info": {
      "name": "python"
    }
  },
  "nbformat": 4,
  "nbformat_minor": 2
}
