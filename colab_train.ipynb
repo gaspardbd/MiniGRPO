{
  "cells": [
    {
      "cell_type": "markdown",
      "metadata": {},
      "source": [
        "# MiniGRPO – Colab Training Notebook\n",
        "\n",
        "Follow these steps:\n",
        "- Run GPU check\n",
        "- Clone your GitHub repo (update GITHUB_URL)\n",
        "- Install dependencies\n",
        "- (Optional) Login to Hugging Face if the model needs access\n",
        "- Launch training\n"
      ]
    },
    {
      "cell_type": "code",
      "execution_count": null,
      "metadata": {
        "vscode": {
          "languageId": "plaintext"
        }
      },
      "outputs": [],
      "source": [
        "!nvidia-smi || echo \"No GPU detected. Make sure to use a GPU runtime (Runtime → Change runtime type → GPU).\"\n"
      ]
    },
    {
      "cell_type": "code",
      "execution_count": null,
      "metadata": {
        "vscode": {
          "languageId": "plaintext"
        }
      },
      "outputs": [],
      "source": [
        "%%bash\n",
        "GITHUB_URL=\"https://github.com/gaspardbd/MiniGRPO.git\"\n",
        "REPO_DIR=\"MiniGRPO\"\n",
        "\n",
        "if [ ! -d \"$REPO_DIR\" ]; then\n",
        "  git clone \"$GITHUB_URL\"\n",
        "fi\n",
        "\n",
        "cd \"$REPO_DIR\"\n",
        "git pull --ff-only\n",
        "ls -la"
      ]
    },
    {
      "cell_type": "code",
      "execution_count": null,
      "metadata": {
        "vscode": {
          "languageId": "plaintext"
        }
      },
      "outputs": [],
      "source": [
        "%%bash\n",
        "pip install -U pip\n",
        "\n",
        "pip install torch --index-url https://download.pytorch.org/whl/cu121\n",
        "pip install transformers accelerate\n",
        "pip install wandb\n",
        "\n",
        "pip install flash-attn --no-build-isolation || echo \"flash-attn failed (optional).\"\n"
      ]
    },
    {
      "cell_type": "code",
      "execution_count": null,
      "metadata": {},
      "outputs": [],
      "source": [
        "# Optional: Hugging Face login (uncomment if needed)\n",
        "# from huggingface_hub import login\n",
        "# login(token=\"hf_...\", add_to_git_credential=True)\n",
        "\n",
        "import os\n",
        "os.environ.setdefault(\"WANDB_MODE\", \"disabled\")  # disable wandb by default\n"
      ]
    },
    {
      "cell_type": "code",
      "execution_count": null,
      "metadata": {},
      "outputs": [],
      "source": [
        "from huggingface_hub import login\n",
        "\n",
        "login(\"hf_xxxxx\")  # your token"
      ]
    },
    {
      "cell_type": "code",
      "execution_count": null,
      "metadata": {},
      "outputs": [],
      "source": [
        "%%bash\n",
        "cd MiniGRPO\n",
        "python -u train.py | tee train.log"
      ]
    }
  ],
  "metadata": {
    "language_info": {
      "name": "python"
    }
  },
  "nbformat": 4,
  "nbformat_minor": 2
}
